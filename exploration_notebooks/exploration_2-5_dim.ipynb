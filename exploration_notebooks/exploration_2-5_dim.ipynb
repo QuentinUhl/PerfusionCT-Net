{
 "cells": [
  {
   "cell_type": "markdown",
   "metadata": {},
   "source": [
    "# Convert 3D images into 2,5D"
   ]
  },
  {
   "cell_type": "markdown",
   "metadata": {},
   "source": [
    "The function of this notebook is to reduce the number of images on the z-axis in order to improve the performance of our algorithm."
   ]
  },
  {
   "cell_type": "code",
   "execution_count": null,
   "metadata": {},
   "outputs": [],
   "source": [
    "import sys\n",
    "sys.path.insert(0, '../')\n",
    "import numpy as np\n",
    "import torch\n",
    "import matplotlib.pyplot as plt\n",
    "from dataio.transformation.imageTransformations import RandomFlipTransform, RandomElasticTransform, RandomAffineTransform, RandomNoiseTransform\n",
    "from gsprep.visual_tools.visual import display"
   ]
  },
  {
   "cell_type": "code",
   "execution_count": null,
   "metadata": {
    "pycharm": {
     "name": "#%%\n"
    }
   },
   "outputs": [],
   "source": [
    "dataset_path = \"../../data/working_data/pct_unet_all_2016_2017/data_set.npz\"\n",
    "channel = 0\n",
    "subj_id = None\n",
    "subj = 1\n",
    "ids = np.load(dataset_path, allow_pickle=True)['ids']\n",
    "if subj_id is not None:\n",
    "    subj = np.argwhere(ids==subj_id)[0, 0]\n",
    "\n",
    "raw_images = np.load(dataset_path, allow_pickle=True)['ct_inputs'][subj][..., :].astype(np.float64)\n",
    "# raw_labels = np.load(dataset_path, allow_pickle=True)['ct_lesion_GT'][subj].astype(np.uint8)\n",
    "raw_labels = np.load(dataset_path, allow_pickle=True)['lesion_GT'][subj].astype(np.float64)\n",
    "raw_mask = np.load(dataset_path, allow_pickle=True)['brain_masks'][subj]\n",
    "\n",
    "raw_images.shape"
   ]
  },
  {
   "cell_type": "code",
   "execution_count": null,
   "metadata": {
    "pycharm": {
     "name": "#%%\n"
    },
    "scrolled": true
   },
   "outputs": [],
   "source": [
    "display(raw_images[...,0], mask=raw_labels)\n",
    "plt.imshow(raw_images[..., 45,0], cmap='gray')\n",
    "plt.imshow(raw_labels[..., 45], cmap='Blues', alpha=0.4)"
   ]
  },
  {
   "cell_type": "code",
   "execution_count": null,
   "metadata": {},
   "outputs": [],
   "source": [
    "zlevel = 50\n",
    "\n",
    "plt.imshow(raw_images[..., zlevel,0]>15, cmap='gray')\n",
    "plt.figure()\n",
    "plt.imshow(raw_images[..., zlevel,1]>38, cmap='gray')\n",
    "plt.figure()\n",
    "plt.imshow(raw_labels[..., zlevel], cmap='Blues', alpha=0.4)"
   ]
  },
  {
   "cell_type": "code",
   "execution_count": null,
   "metadata": {
    "pycharm": {
     "name": "#%%\n"
    }
   },
   "outputs": [],
   "source": [
    "images, labels = torch.from_numpy(np.expand_dims(raw_images, axis=-1)), \\\n",
    "                 torch.from_numpy(np.expand_dims(raw_labels, axis=-1))\n",
    "\n",
    "seed = 7533\n",
    "max_output_channels = 2\n",
    "images.shape"
   ]
  },
  {
   "cell_type": "code",
   "execution_count": null,
   "metadata": {
    "pycharm": {
     "name": "#%%\n"
    }
   },
   "outputs": [],
   "source": [
    "\n"
   ]
  }
 ],
 "metadata": {
  "kernelspec": {
   "display_name": "Python 3",
   "language": "python",
   "name": "python3"
  },
  "language_info": {
   "codemirror_mode": {
    "name": "ipython",
    "version": 3
   },
   "file_extension": ".py",
   "mimetype": "text/x-python",
   "name": "python",
   "nbconvert_exporter": "python",
   "pygments_lexer": "ipython3",
   "version": "3.7.7"
  }
 },
 "nbformat": 4,
 "nbformat_minor": 1
}
