{
 "cells": [
  {
   "cell_type": "markdown",
   "metadata": {
    "pycharm": {
     "name": "#%% md\n"
    }
   },
   "source": [
    "# Normalisation of dataset"
   ]
  },
  {
   "cell_type": "code",
   "execution_count": null,
   "metadata": {},
   "outputs": [],
   "source": [
    "import matplotlib.pyplot as plt\n",
    "import sys\n",
    "sys.path.insert(0, '../')\n",
    "import numpy as np\n",
    "import torch\n",
    "from dataio.transformation.imageTransformations import StandardizeImage\n",
    "from gsprep.visual_tools.dataset_histograms import plot_dataset_histogram, plot_per_sample_histograms"
   ]
  },
  {
   "cell_type": "code",
   "execution_count": null,
   "metadata": {
    "pycharm": {
     "name": "#%%\n"
    }
   },
   "outputs": [],
   "source": [
    "dataset_path = '/Users/julian/temp/perfusion_data_sets/rescaled_data_set.npz'\n",
    "n_subj = 144\n",
    "\n",
    "raw_images = np.load(dataset_path, allow_pickle=True)['ct_inputs'][:n_subj].astype(np.float64)\n",
    "raw_labels = np.load(dataset_path, allow_pickle=True)['ct_lesion_GT'][:n_subj].astype(np.uint8)\n",
    "# raw_labels = np.load(dataset_path, allow_pickle=True)['lesion_GT'][:n_subj].astype(np.float64)\n",
    "raw_mask = np.load(dataset_path, allow_pickle=True)['brain_masks'][:n_subj]\n",
    "params = np.load(dataset_path, allow_pickle=True)['params']\n",
    "\n",
    "n_subj, n_x, n_y, n_z, n_c = raw_images.shape\n",
    "raw_images.shape"
   ]
  },
  {
   "cell_type": "code",
   "execution_count": null,
   "metadata": {
    "pycharm": {
     "name": "#%%\n"
    }
   },
   "outputs": [],
   "source": [
    "fig = plt.figure(figsize=(10,10))\n",
    "axis = fig.add_subplot(1, 1, 1)\n",
    "n_subj, n_x, n_y, n_z, n_c = raw_images.shape\n",
    "color_scheme = ['blue', 'red', 'green', 'magenta']\n",
    "ct_sequences = params.item()['ct_sequences']\n",
    "\n",
    "for index, (channel, color, label) in enumerate(zip(range(n_c), color_scheme, ct_sequences)):\n",
    "    plot_dataset_histogram(raw_images[:, ..., channel], num_positions=100, color=color, mask_zero=True, axis=axis,\n",
    "                           dataset_label=label)\n",
    "axis.set_xlim(0, 200)\n",
    "axis.set_ylim(0, 0.03)\n",
    "leg = axis.legend()\n",
    "for lh in leg.legendHandles:\n",
    "    lh.set_alpha(0.5)"
   ]
  },
  {
   "cell_type": "code",
   "execution_count": null,
   "metadata": {
    "pycharm": {
     "name": "#%%\n"
    }
   },
   "outputs": [],
   "source": [
    "for index, (channel, label) in enumerate(zip(range(n_c), ct_sequences)):\n",
    "    plot_per_sample_histograms(raw_images[..., channel], log=True, title=label, figsize=(10, 100))\n",
    "print(\"Original data histograms\")"
   ]
  },
  {
   "cell_type": "markdown",
   "metadata": {
    "pycharm": {
     "is_executing": true,
     "name": "#%% md\n"
    }
   },
   "source": [
    "## Standardisation\n",
    "Normalises given volume to zero mean and unit standard deviation.\n",
    "\n"
   ]
  },
  {
   "cell_type": "markdown",
   "metadata": {
    "pycharm": {
     "name": "#%% md\n"
    }
   },
   "source": [
    "### Subject wise standardisation"
   ]
  },
  {
   "cell_type": "code",
   "execution_count": null,
   "metadata": {
    "pycharm": {
     "name": "#%%\n"
    }
   },
   "outputs": [],
   "source": [
    "# Mimic the way it is called in transformations\n",
    "def apply_standardisation(input, target):\n",
    "    transform = StandardizeImage(norm_flag=[True, True, True, False])\n",
    "    std_input, std_target = transform(input, target)\n",
    "    return std_input, std_target\n"
   ]
  },
  {
   "cell_type": "markdown",
   "metadata": {
    "pycharm": {
     "name": "#%% md\n"
    }
   },
   "source": [
    "Single image test\n",
    "\n",
    "\n"
   ]
  },
  {
   "cell_type": "code",
   "execution_count": null,
   "metadata": {
    "pycharm": {
     "name": "#%%\n"
    }
   },
   "outputs": [],
   "source": [
    "subj_idx = 1\n",
    "input = raw_images[subj_idx]\n",
    "label = np.expand_dims(raw_labels[subj_idx], axis=[-1])\n",
    "\n",
    "images, labels = torch.from_numpy(input), \\\n",
    "                 torch.from_numpy(label)\n",
    "\n",
    "\n",
    "images.shape, labels.shape"
   ]
  },
  {
   "cell_type": "code",
   "execution_count": null,
   "metadata": {
    "pycharm": {
     "name": "#%%\n"
    }
   },
   "outputs": [],
   "source": [
    "std_input, std_label = apply_standardisation(images, labels)\n",
    "\n",
    "std_input.shape, std_label.shape"
   ]
  },
  {
   "cell_type": "code",
   "execution_count": null,
   "metadata": {
    "pycharm": {
     "name": "#%%\n"
    }
   },
   "outputs": [],
   "source": [
    "plot_per_sample_histograms(np.expand_dims(input[..., 0], axis=0), title='Original', figsize=(10,5), log=True)\n",
    "plot_per_sample_histograms(np.expand_dims(std_input[..., 0], axis=0), title='Standardised', figsize=(10,5), log=True)\n",
    "print('Comparing for a single image')"
   ]
  },
  {
   "cell_type": "markdown",
   "metadata": {
    "pycharm": {
     "name": "#%% md\n"
    }
   },
   "source": [
    "Applying to whole dataset\n",
    "\n"
   ]
  },
  {
   "cell_type": "code",
   "execution_count": null,
   "metadata": {
    "pycharm": {
     "name": "#%%\n"
    }
   },
   "outputs": [],
   "source": [
    "images, labels = torch.from_numpy(raw_images), \\\n",
    "                 torch.from_numpy(np.expand_dims(raw_labels, axis=-1))\n",
    "\n",
    "images.shape, labels.shape\n",
    "\n",
    "\n"
   ]
  },
  {
   "cell_type": "code",
   "execution_count": null,
   "metadata": {
    "pycharm": {
     "name": "#%%\n"
    }
   },
   "outputs": [],
   "source": [
    "std_images = []\n",
    "std_labels = []\n",
    "\n",
    "for subj_idx in range(n_subj):\n",
    "    std_input, std_label = apply_standardisation(images[subj_idx], labels[subj_idx])\n",
    "    std_images.append(std_input.numpy())\n",
    "    std_labels.append(std_label.numpy())\n",
    "\n",
    "std_images = np.array(std_images)\n",
    "std_labels = np.array(std_labels)\n",
    "\n",
    "std_images.shape, std_labels.shape\n",
    "\n"
   ]
  },
  {
   "cell_type": "code",
   "execution_count": null,
   "metadata": {
    "pycharm": {
     "name": "#%%\n"
    }
   },
   "outputs": [],
   "source": [
    "assert np.all(std_labels == labels.numpy()), 'Labels should be unchanged'"
   ]
  },
  {
   "cell_type": "code",
   "execution_count": null,
   "metadata": {
    "pycharm": {
     "name": "#%%\n"
    }
   },
   "outputs": [],
   "source": [
    "fig = plt.figure(figsize=(10,10))\n",
    "axis = fig.add_subplot(1, 1, 1)\n",
    "n_subj, n_x, n_y, n_z, n_c = std_images.shape\n",
    "color_scheme = ['blue', 'red', 'green', 'magenta']\n",
    "ct_sequences = params.item()['ct_sequences']\n",
    "\n",
    "for index, (channel, color, label) in enumerate(zip(range(n_c), color_scheme, ct_sequences)):\n",
    "    plot_dataset_histogram(std_images[:, ..., channel], num_positions=100, color=color, mask_zero=True, axis=axis,\n",
    "                           dataset_label=label)\n",
    "axis.set_xlim(0, 200)\n",
    "axis.set_ylim(0, 0.03)\n",
    "leg = axis.legend()\n",
    "for lh in leg.legendHandles:\n",
    "    lh.set_alpha(0.5)\n"
   ]
  },
  {
   "cell_type": "code",
   "execution_count": null,
   "metadata": {
    "pycharm": {
     "name": "#%%\n"
    }
   },
   "outputs": [],
   "source": [
    "for index, (channel, label) in enumerate(zip(range(n_c), ct_sequences)):\n",
    "    plot_per_sample_histograms(std_images[..., channel], log=True, title=label, figsize=(10, 100))\n",
    "print(\"Per subject standardized data histograms\")"
   ]
  },
  {
   "cell_type": "markdown",
   "metadata": {
    "pycharm": {
     "name": "#%% md\n"
    }
   },
   "source": [
    "### Whole data set standardisation\n"
   ]
  },
  {
   "cell_type": "code",
   "execution_count": null,
   "metadata": {
    "pycharm": {
     "name": "#%%\n"
    }
   },
   "outputs": [],
   "source": [
    "standardize = lambda x: (x - np.mean(x)) / np.std(x)"
   ]
  },
  {
   "cell_type": "code",
   "execution_count": null,
   "metadata": {
    "pycharm": {
     "name": "#%%\n"
    }
   },
   "outputs": [],
   "source": [
    "std_images = np.empty(raw_images.shape)\n",
    "for c in range(raw_images.shape[-1]):\n",
    "\n",
    "    std_images[..., c] = standardize(raw_images[..., c])\n",
    "    print('CT channel', c, np.mean(std_images[..., c]), np.std(std_images[..., c]))"
   ]
  },
  {
   "cell_type": "code",
   "execution_count": null,
   "metadata": {
    "pycharm": {
     "name": "#%%\n"
    }
   },
   "outputs": [],
   "source": [
    "fig = plt.figure(figsize=(10,10))\n",
    "axis = fig.add_subplot(1, 1, 1)\n",
    "n_subj, n_x, n_y, n_z, n_c = std_images.shape\n",
    "color_scheme = ['blue', 'red', 'green', 'magenta']\n",
    "ct_sequences = params.item()['ct_sequences']\n",
    "\n",
    "for index, (channel, color, label) in enumerate(zip(range(n_c), color_scheme, ct_sequences)):\n",
    "    plot_dataset_histogram(std_images[:, ..., channel], num_positions=100, color=color, mask_zero=True, axis=axis,\n",
    "                           dataset_label=label)\n",
    "axis.set_xlim(0, 200)\n",
    "axis.set_ylim(0, 0.03)\n",
    "leg = axis.legend()\n",
    "for lh in leg.legendHandles:\n",
    "    lh.set_alpha(0.5)\n",
    "\n"
   ]
  },
  {
   "cell_type": "code",
   "execution_count": null,
   "metadata": {
    "pycharm": {
     "name": "#%%\n"
    }
   },
   "outputs": [],
   "source": [
    "for index, (channel, label) in enumerate(zip(range(n_c), ct_sequences)):\n",
    "    plot_per_sample_histograms(std_images[..., channel], log=True, title=label, figsize=(10, 100))\n",
    "print(\"All subjects standardized data histograms\")"
   ]
  },
  {
   "cell_type": "code",
   "execution_count": null,
   "metadata": {
    "pycharm": {
     "name": "#%%\n"
    }
   },
   "outputs": [],
   "source": [
    "\n"
   ]
  }
 ],
 "metadata": {
  "kernelspec": {
   "display_name": "Python 3",
   "language": "python",
   "name": "python3"
  },
  "language_info": {
   "codemirror_mode": {
    "name": "ipython",
    "version": 3
   },
   "file_extension": ".py",
   "mimetype": "text/x-python",
   "name": "python",
   "nbconvert_exporter": "python",
   "pygments_lexer": "ipython3",
   "version": "3.7.7"
  }
 },
 "nbformat": 4,
 "nbformat_minor": 1
}
